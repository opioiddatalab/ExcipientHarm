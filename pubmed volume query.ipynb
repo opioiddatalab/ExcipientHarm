#!/usr/bin/env python3
# -*- coding: utf-8 -*-
"""
Created on Fri Sep 27 10:28:11 2019

@author: nabarun
"""
   
import operator
import pandas as pd
from Bio import Entrez

df = pd.read_csv('searchdrug.csv', header=0)
df.head()

# create output dictionary
outputdict={}

df['count']=pd.Series()
for i, row in df.iterrows():
    Entrez.email = "nabarund@gmail.com"
    handle = Entrez.esearch(db="pubmed", term=row['brand'], retmode="xml", datetype="pdat", api_key="INSERT PRIVATE API KEY HERE ")
    records = Entrez.read(handle)
    brand = row['brand']
    count = int(records["Count"])
    # populate output dictionary
    outputdict[brand] = str(count)

# generate sorted list from outputdict
for b,c in sorted(outputdict.items(), key=operator.itemgetter(1), reverse=True):
    print(b,c)

# convert to dataframe    
list=pd.DataFrame.from_dict(outputdict,orient='index')

list.to_csv('freqlist.csv', header=0)